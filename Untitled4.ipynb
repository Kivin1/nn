{
 "cells": [
  {
   "cell_type": "code",
   "execution_count": 122,
   "metadata": {
    "collapsed": false
   },
   "outputs": [],
   "source": [
    "import pandas as pd\n",
    "import numpy as np\n",
    "import matplotlib\n",
    "%matplotlib inline\n",
    "import matplotlib.pyplot as plt\n",
    "import random\n",
    "from sklearn.neural_network import MLPClassifier\n",
    "from sklearn.cross_validation import train_test_split \n",
    "from sklearn.metrics import confusion_matrix,classification_report,accuracy_score\n",
    "from neupy import algorithms, estimators, environment"
   ]
  },
  {
   "cell_type": "code",
   "execution_count": 187,
   "metadata": {
    "collapsed": false
   },
   "outputs": [],
   "source": [
    "mlp = MLPClassifier(hidden_layer_sizes=9, max_iter=1000, alpha=1e-4,\n",
    "                    solver='sgd',random_state=1,\n",
    "                    learning_rate_init=.6,activation= 'logistic')"
   ]
  },
  {
   "cell_type": "code",
   "execution_count": 148,
   "metadata": {
    "collapsed": true
   },
   "outputs": [],
   "source": [
    "diabetes = pd.read_csv(\"~/Desktop/data.scale.csv\")"
   ]
  },
  {
   "cell_type": "code",
   "execution_count": 149,
   "metadata": {
    "collapsed": false
   },
   "outputs": [
    {
     "data": {
      "text/html": [
       "<div>\n",
       "<table border=\"1\" class=\"dataframe\">\n",
       "  <thead>\n",
       "    <tr style=\"text-align: right;\">\n",
       "      <th></th>\n",
       "      <th>Plasma.glucose.concentration</th>\n",
       "      <th>Diastolic.blood.pressure</th>\n",
       "      <th>Number.of.times.pregnant</th>\n",
       "      <th>Triceps.skin.fold.thickness</th>\n",
       "      <th>X2.Hour.serum.insulin</th>\n",
       "      <th>Body.mass.index</th>\n",
       "      <th>Diabetes.pedigree.function</th>\n",
       "      <th>Age</th>\n",
       "      <th>V9</th>\n",
       "    </tr>\n",
       "  </thead>\n",
       "  <tbody>\n",
       "    <tr>\n",
       "      <th>0</th>\n",
       "      <td>0.853982</td>\n",
       "      <td>-0.030126</td>\n",
       "      <td>1.17324</td>\n",
       "      <td>1.147234</td>\n",
       "      <td>0.875879</td>\n",
       "      <td>1.011775</td>\n",
       "      <td>1.088100</td>\n",
       "      <td>1.416509</td>\n",
       "      <td>1</td>\n",
       "    </tr>\n",
       "    <tr>\n",
       "      <th>1</th>\n",
       "      <td>-1.210636</td>\n",
       "      <td>-0.521817</td>\n",
       "      <td>0.19554</td>\n",
       "      <td>0.950566</td>\n",
       "      <td>0.875879</td>\n",
       "      <td>0.800988</td>\n",
       "      <td>0.609128</td>\n",
       "      <td>0.878235</td>\n",
       "      <td>0</td>\n",
       "    </tr>\n",
       "    <tr>\n",
       "      <th>2</th>\n",
       "      <td>2.000991</td>\n",
       "      <td>-0.685714</td>\n",
       "      <td>1.56432</td>\n",
       "      <td>0.956466</td>\n",
       "      <td>0.875879</td>\n",
       "      <td>0.701618</td>\n",
       "      <td>1.166194</td>\n",
       "      <td>0.906566</td>\n",
       "      <td>1</td>\n",
       "    </tr>\n",
       "    <tr>\n",
       "      <th>3</th>\n",
       "      <td>-1.079549</td>\n",
       "      <td>-0.521817</td>\n",
       "      <td>0.19554</td>\n",
       "      <td>0.753897</td>\n",
       "      <td>0.528722</td>\n",
       "      <td>0.846157</td>\n",
       "      <td>0.289813</td>\n",
       "      <td>0.594934</td>\n",
       "      <td>0</td>\n",
       "    </tr>\n",
       "    <tr>\n",
       "      <th>4</th>\n",
       "      <td>0.493493</td>\n",
       "      <td>-2.652476</td>\n",
       "      <td>0.00000</td>\n",
       "      <td>1.147234</td>\n",
       "      <td>0.944950</td>\n",
       "      <td>1.297842</td>\n",
       "      <td>3.970612</td>\n",
       "      <td>0.934896</td>\n",
       "      <td>1</td>\n",
       "    </tr>\n",
       "  </tbody>\n",
       "</table>\n",
       "</div>"
      ],
      "text/plain": [
       "   Plasma.glucose.concentration  Diastolic.blood.pressure  \\\n",
       "0                      0.853982                 -0.030126   \n",
       "1                     -1.210636                 -0.521817   \n",
       "2                      2.000991                 -0.685714   \n",
       "3                     -1.079549                 -0.521817   \n",
       "4                      0.493493                 -2.652476   \n",
       "\n",
       "   Number.of.times.pregnant  Triceps.skin.fold.thickness  \\\n",
       "0                   1.17324                     1.147234   \n",
       "1                   0.19554                     0.950566   \n",
       "2                   1.56432                     0.956466   \n",
       "3                   0.19554                     0.753897   \n",
       "4                   0.00000                     1.147234   \n",
       "\n",
       "   X2.Hour.serum.insulin  Body.mass.index  Diabetes.pedigree.function  \\\n",
       "0               0.875879         1.011775                    1.088100   \n",
       "1               0.875879         0.800988                    0.609128   \n",
       "2               0.875879         0.701618                    1.166194   \n",
       "3               0.528722         0.846157                    0.289813   \n",
       "4               0.944950         1.297842                    3.970612   \n",
       "\n",
       "        Age  V9  \n",
       "0  1.416509   1  \n",
       "1  0.878235   0  \n",
       "2  0.906566   1  \n",
       "3  0.594934   0  \n",
       "4  0.934896   1  "
      ]
     },
     "execution_count": 149,
     "metadata": {},
     "output_type": "execute_result"
    }
   ],
   "source": [
    "diabetes.head()"
   ]
  },
  {
   "cell_type": "code",
   "execution_count": 150,
   "metadata": {
    "collapsed": false
   },
   "outputs": [],
   "source": [
    "diabetes.target = diabetes.iloc[:,-1]"
   ]
  },
  {
   "cell_type": "code",
   "execution_count": 151,
   "metadata": {
    "collapsed": false
   },
   "outputs": [
    {
     "data": {
      "text/plain": [
       "pandas.core.series.Series"
      ]
     },
     "execution_count": 151,
     "metadata": {},
     "output_type": "execute_result"
    }
   ],
   "source": [
    "type(diabetes.target)"
   ]
  },
  {
   "cell_type": "code",
   "execution_count": 152,
   "metadata": {
    "collapsed": false
   },
   "outputs": [],
   "source": [
    "diabetes.data = diabetes.ix[:,0:8]"
   ]
  },
  {
   "cell_type": "code",
   "execution_count": 153,
   "metadata": {
    "collapsed": false
   },
   "outputs": [
    {
     "data": {
      "text/plain": [
       "(757, 8)"
      ]
     },
     "execution_count": 153,
     "metadata": {},
     "output_type": "execute_result"
    }
   ],
   "source": [
    "diabetes.data.head()\n",
    "type(diabetes.data)\n",
    "diabetes.data.shape"
   ]
  },
  {
   "cell_type": "code",
   "execution_count": 188,
   "metadata": {
    "collapsed": false
   },
   "outputs": [],
   "source": [
    "X_train, X_test, y_train, y_test = train_test_split(\n",
    "     diabetes.data, diabetes.target, test_size=0.25,random_state = 27)  #12 0.79 #27 0.82"
   ]
  },
  {
   "cell_type": "code",
   "execution_count": 181,
   "metadata": {
    "collapsed": false
   },
   "outputs": [
    {
     "data": {
      "text/plain": [
       "((567, 8), (567,))"
      ]
     },
     "execution_count": 181,
     "metadata": {},
     "output_type": "execute_result"
    }
   ],
   "source": [
    "X_train.shape, y_train.shape\n"
   ]
  },
  {
   "cell_type": "code",
   "execution_count": 182,
   "metadata": {
    "collapsed": false
   },
   "outputs": [
    {
     "data": {
      "text/plain": [
       "((190, 8), (190,))"
      ]
     },
     "execution_count": 182,
     "metadata": {},
     "output_type": "execute_result"
    }
   ],
   "source": [
    "X_test.shape, y_test.shape"
   ]
  },
  {
   "cell_type": "code",
   "execution_count": 189,
   "metadata": {
    "collapsed": false
   },
   "outputs": [
    {
     "data": {
      "text/plain": [
       "MLPClassifier(activation='logistic', alpha=0.0001, batch_size='auto',\n",
       "       beta_1=0.9, beta_2=0.999, early_stopping=False, epsilon=1e-08,\n",
       "       hidden_layer_sizes=9, learning_rate='constant',\n",
       "       learning_rate_init=0.6, max_iter=1000, momentum=0.9,\n",
       "       nesterovs_momentum=True, power_t=0.5, random_state=1, shuffle=True,\n",
       "       solver='sgd', tol=0.0001, validation_fraction=0.1, verbose=False,\n",
       "       warm_start=False)"
      ]
     },
     "execution_count": 189,
     "metadata": {},
     "output_type": "execute_result"
    }
   ],
   "source": [
    "mlp.fit(X_train,y_train)"
   ]
  },
  {
   "cell_type": "code",
   "execution_count": 190,
   "metadata": {
    "collapsed": false
   },
   "outputs": [
    {
     "name": "stdout",
     "output_type": "stream",
     "text": [
      "[1 0 0 0 1 0 1 0 1 1 0 1 0 1 0 0 0 0 0 0 1 0 0 0 1 1 0 0 0 0 0 0 0 0 0 0 1\n",
      " 0 0 0 0 0 1 1 1 0 1 1 0 1 0 0 0 0 0 0 0 0 1 0 0 1 0 1 0 1 0 1 0 0 0 0 0 0\n",
      " 0 0 1 0 0 0 0 1 0 1 0 0 0 0 0 1 1 0 0 1 0 0 0 0 0 1 0 1 0 1 0 0 1 0 1 1 0\n",
      " 0 1 0 0 0 1 1 1 1 1 0 0 0 1 1 0 0 0 0 0 1 1 1 0 0 0 0 0 1 1 0 0 0 0 0 1 0\n",
      " 0 1 0 0 0 0 0 0 0 1 1 1 1 0 0 0 0 0 1 0 1 0 0 0 0 0 0 0 0 1 0 0 0 1 0 0 0\n",
      " 0 0 0 0 0]\n"
     ]
    }
   ],
   "source": [
    "mlp_test = mlp.predict(X_test)\n",
    "print(mlp_test)"
   ]
  },
  {
   "cell_type": "code",
   "execution_count": 191,
   "metadata": {
    "collapsed": false
   },
   "outputs": [
    {
     "name": "stdout",
     "output_type": "stream",
     "text": [
      "\n",
      " mlp consufusion matrix:\n",
      " [[116  16]\n",
      " [ 17  41]]\n"
     ]
    }
   ],
   "source": [
    "mlp_cm = confusion_matrix(y_test,mlp_test)\n",
    "print(\"\\n mlp consufusion matrix:\\n\",mlp_cm)"
   ]
  },
  {
   "cell_type": "code",
   "execution_count": 192,
   "metadata": {
    "collapsed": false
   },
   "outputs": [
    {
     "name": "stdout",
     "output_type": "stream",
     "text": [
      "\n",
      " MSE: 0.1736842105263158\n",
      " Accuracy: 0.826315789474\n",
      "\n",
      " clasification report:\n",
      "              precision    recall  f1-score   support\n",
      "\n",
      "          0       0.87      0.88      0.88       132\n",
      "          1       0.72      0.71      0.71        58\n",
      "\n",
      "avg / total       0.83      0.83      0.83       190\n",
      "\n"
     ]
    }
   ],
   "source": [
    "print(\"\\n MSE:\",estimators.mse(mlp_test, y_test))\n",
    "print (\" Accuracy:\", accuracy_score(y_test, mlp_test))\n",
    "print(\"\\n clasification report:\\n\", classification_report(y_test,mlp_test))"
   ]
  },
  {
   "cell_type": "code",
   "execution_count": 205,
   "metadata": {
    "collapsed": false,
    "scrolled": true
   },
   "outputs": [],
   "source": [
    "GRNN_model = algorithms.GRNN(std=0.9, verbose=False)"
   ]
  },
  {
   "cell_type": "code",
   "execution_count": 206,
   "metadata": {
    "collapsed": true
   },
   "outputs": [],
   "source": [
    "GRNN_model.train(X_train, y_train)"
   ]
  },
  {
   "cell_type": "code",
   "execution_count": 207,
   "metadata": {
    "collapsed": false
   },
   "outputs": [],
   "source": [
    "y_predicted = GRNN_model.predict(X_test)\n",
    "grnn_predicted = y_predicted.tolist()\n",
    "grnn_pred = sum(grnn_predicted,[])\n",
    "grnn_pre = []\n",
    "for item in grnn_pred:\n",
    "    grnn_pre.append(round(item))\n"
   ]
  },
  {
   "cell_type": "code",
   "execution_count": 208,
   "metadata": {
    "collapsed": false,
    "scrolled": true
   },
   "outputs": [
    {
     "name": "stdout",
     "output_type": "stream",
     "text": [
      "\n",
      " GRNN consufusion matrix:\n",
      " [[124  29]\n",
      " [  8  29]]\n"
     ]
    }
   ],
   "source": [
    "GRNN_cm = confusion_matrix(grnn_pre, y_test)\n",
    "print(\"\\n GRNN consufusion matrix:\\n\",GRNN_cm)"
   ]
  },
  {
   "cell_type": "markdown",
   "metadata": {},
   "source": [
    "print(\"\\n MSE:\",estimators.mse(y_predicted, y_test))\n",
    "print (\" Accuracy:\", accuracy_score(grnn_pre, y_test))\n",
    "print(\"\\n clasification report:\\n\", classification_report(grnn_pre, y_test))"
   ]
  },
  {
   "cell_type": "code",
   "execution_count": null,
   "metadata": {
    "collapsed": true
   },
   "outputs": [],
   "source": []
  }
 ],
 "metadata": {
  "kernelspec": {
   "display_name": "Python 3",
   "language": "python",
   "name": "python3"
  },
  "language_info": {
   "codemirror_mode": {
    "name": "ipython",
    "version": 3
   },
   "file_extension": ".py",
   "mimetype": "text/x-python",
   "name": "python",
   "nbconvert_exporter": "python",
   "pygments_lexer": "ipython3",
   "version": "3.6.0"
  }
 },
 "nbformat": 4,
 "nbformat_minor": 2
}
